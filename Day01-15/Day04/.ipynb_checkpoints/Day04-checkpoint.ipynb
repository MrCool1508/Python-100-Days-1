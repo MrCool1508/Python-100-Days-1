{
 "cells": [
  {
   "cell_type": "markdown",
   "metadata": {},
   "source": [
    "# Day04 循环结构\n",
    "## 'for-in'循环\n",
    "### Eg：用'for'循环实现1-100累加"
   ]
  },
  {
   "cell_type": "code",
   "execution_count": 3,
   "metadata": {},
   "outputs": [
    {
     "name": "stdout",
     "output_type": "stream",
     "text": [
      "累加和为： 4950\n"
     ]
    }
   ],
   "source": [
    "x = 0\n",
    "for i in range(1,100):\n",
    "    x += i\n",
    "print(\"累加和为：\",x)"
   ]
  },
  {
   "cell_type": "markdown",
   "metadata": {},
   "source": [
    "+ 'range'可以用来产生一个不变的数值序列，通常用于循环中\n",
    "+ range(101)，可以产生一个0-100的整数序列\n",
    "+ range(1, 100)，可以产生一个1-99的整数序列\n",
    "+ range(1, 100, 2),可以产生一个1-99，步长为2的整数序列（奇数序列）\n",
    "\n",
    "### Eg：用'for'循环实现1-100的偶数求和"
   ]
  },
  {
   "cell_type": "code",
   "execution_count": 5,
   "metadata": {},
   "outputs": [
    {
     "name": "stdout",
     "output_type": "stream",
     "text": [
      "1-100的偶数和为： 2550\n",
      "分支结构求和为： 2550\n"
     ]
    }
   ],
   "source": [
    "x = 0\n",
    "for i in range(0, 101, 2):\n",
    "    x += i\n",
    "print(\"1-100的偶数和为：\", x)\n",
    "\n",
    "# 用分支结构实现\n",
    "\n",
    "y = 0\n",
    "for i in range(0, 101):\n",
    "    if(0 == i%2):\n",
    "        y += i\n",
    "print(\"分支结构求和为：\", y)"
   ]
  },
  {
   "cell_type": "markdown",
   "metadata": {},
   "source": [
    "## 'while'循环\n",
    "### Eg:猜数字游戏"
   ]
  },
  {
   "cell_type": "code",
   "execution_count": 7,
   "metadata": {},
   "outputs": [
    {
     "name": "stdout",
     "output_type": "stream",
     "text": [
      "请输入：6\n",
      "猜小了，再大一点\n",
      "请输入：50\n",
      "猜小了，再大一点\n",
      "请输入：75\n",
      "猜小了，再大一点\n",
      "请输入：90\n",
      "噔噔蹬蹬！恭喜你，猜对了\n",
      "你一共猜了4次\n"
     ]
    }
   ],
   "source": [
    "import random\n",
    "\n",
    "answer = random.randint(1, 100)\n",
    "cnt = 0\n",
    "while True:\n",
    "    cnt += 1\n",
    "    number = int(input(\"请输入：\"))\n",
    "    if number < answer:\n",
    "        print(\"猜小了，再大一点\")\n",
    "    elif number < answer:\n",
    "        print(\"猜大了，小一些吧\")\n",
    "    else:\n",
    "        print(\"噔噔蹬蹬！恭喜你，猜对了\")\n",
    "        break\n",
    "print(\"你一共猜了%d次\" % cnt)\n",
    "if cnt > 7:\n",
    "    print(\"你该吃点聪明药了！\")"
   ]
  },
  {
   "cell_type": "markdown",
   "metadata": {},
   "source": [
    "### Eg：输出九九乘法表\n",
    "+ 下例中可以看到，'print'格式化可以用'end = '\\t''进行空格收尾"
   ]
  },
  {
   "cell_type": "code",
   "execution_count": 13,
   "metadata": {},
   "outputs": [
    {
     "name": "stdout",
     "output_type": "stream",
     "text": [
      "1 * 1 = 1\t\n",
      "\n",
      "2 * 1 = 2\t2 * 2 = 4\t\n",
      "\n",
      "3 * 1 = 3\t3 * 2 = 6\t3 * 3 = 9\t\n",
      "\n",
      "4 * 1 = 4\t4 * 2 = 8\t4 * 3 = 12\t4 * 4 = 16\t\n",
      "\n",
      "5 * 1 = 5\t5 * 2 = 10\t5 * 3 = 15\t5 * 4 = 20\t5 * 5 = 25\t\n",
      "\n",
      "6 * 1 = 6\t6 * 2 = 12\t6 * 3 = 18\t6 * 4 = 24\t6 * 5 = 30\t6 * 6 = 36\t\n",
      "\n",
      "7 * 1 = 7\t7 * 2 = 14\t7 * 3 = 21\t7 * 4 = 28\t7 * 5 = 35\t7 * 6 = 42\t7 * 7 = 49\t\n",
      "\n",
      "8 * 1 = 8\t8 * 2 = 16\t8 * 3 = 24\t8 * 4 = 32\t8 * 5 = 40\t8 * 6 = 48\t8 * 7 = 56\t8 * 8 = 64\t\n",
      "\n",
      "9 * 1 = 9\t9 * 2 = 18\t9 * 3 = 27\t9 * 4 = 36\t9 * 5 = 45\t9 * 6 = 54\t9 * 7 = 63\t9 * 8 = 72\t9 * 9 = 81\t\n",
      "\n"
     ]
    }
   ],
   "source": [
    "for i in range(1,10):\n",
    "    for j in range(1, i + 1):\n",
    "        print(\"%d * %d = %d\" % (i, j, i * j), end = \"\\t\")\n",
    "    print(\"\\n\")"
   ]
  },
  {
   "cell_type": "markdown",
   "metadata": {},
   "source": [
    "## Practice\n",
    "### 1、输入一个数判断是不是素数。"
   ]
  },
  {
   "cell_type": "code",
   "execution_count": 11,
   "metadata": {},
   "outputs": [
    {
     "name": "stdout",
     "output_type": "stream",
     "text": [
      "请输入需要判断的数：45\n",
      "45不是素数！\n"
     ]
    }
   ],
   "source": [
    "import math\n",
    "x = int(input(\"请输入需要判断的数：\"))\n",
    "n = int(math.sqrt(x))\n",
    "isPrime = True\n",
    "for i in range (2, n + 1):\n",
    "    if 0 == x % i:\n",
    "        isPrime = False\n",
    "        break\n",
    "if isPrime:\n",
    "    print(\"%d是素数！\" % x)\n",
    "else:\n",
    "    print(\"%d不是素数！\" % x)"
   ]
  },
  {
   "cell_type": "markdown",
   "metadata": {},
   "source": [
    "### 2、输入两个正整数，计算最大公约数和最小公倍数"
   ]
  },
  {
   "cell_type": "code",
   "execution_count": 8,
   "metadata": {},
   "outputs": [
    {
     "name": "stdout",
     "output_type": "stream",
     "text": [
      "请输入两个正整数:\n",
      "x = 12\n",
      "y = 15\n",
      "最大公约数为：3，最小公倍数为：60\n"
     ]
    }
   ],
   "source": [
    "print(\"请输入两个正整数:\")\n",
    "x = int(input(\"x = \"))\n",
    "y = int(input(\"y = \"))\n",
    "maxNum = max(x,y)\n",
    "# 最大公约数\n",
    "gcd = 0\n",
    "# 最小公倍数\n",
    "lcm = 0\n",
    "for i in range(maxNum, 0,-1):\n",
    "    if 0 == x%i and 0 == y%i:\n",
    "        gcd = i\n",
    "        break\n",
    "for i in range(maxNum, x * y + 1):\n",
    "    if 0 == i%x and 0 == i%y:\n",
    "        lcm = i\n",
    "        break\n",
    "print(\"最大公约数为：%d，最小公倍数为：%d\" % (gcd, lcm))\n",
    "\n",
    "# x = int(input('x = '))\n",
    "# y = int(input('y = '))\n",
    "# if x > y:\n",
    "# \t(x, y) = (y, x)\n",
    "# for factor in range(x, 0, -1):\n",
    "# \tif x % factor == 0 and y % factor == 0:\n",
    "# \t\tprint('%d和%d的最大公约数是%d' % (x, y, factor))\n",
    "# \t\tprint('%d和%d的最小公倍数是%d' % (x, y, x * y // factor))\n",
    "# \t\tbreak\n",
    "    "
   ]
  },
  {
   "cell_type": "markdown",
   "metadata": {},
   "source": [
    "### 3、打印三角形图案"
   ]
  },
  {
   "cell_type": "code",
   "execution_count": 54,
   "metadata": {},
   "outputs": [
    {
     "name": "stdout",
     "output_type": "stream",
     "text": [
      "请输入行数：8\n",
      "*\n",
      "**\n",
      "***\n",
      "****\n",
      "*****\n",
      "******\n",
      "*******\n",
      "********\n",
      "\n",
      "       *\n",
      "      **\n",
      "     ***\n",
      "    ****\n",
      "   *****\n",
      "  ******\n",
      " *******\n",
      "********\n",
      "\n",
      "       *\n",
      "      ***\n",
      "     *****\n",
      "    *******\n",
      "   *********\n",
      "  ***********\n",
      " *************\n",
      "***************\n"
     ]
    }
   ],
   "source": [
    "row = int(input(\"请输入行数：\"))\n",
    "temp = 0;\n",
    "for i in range(1, row + 1):\n",
    "    temp = i\n",
    "    while temp:\n",
    "        print(\"*\",end = \"\")\n",
    "        temp -= 1\n",
    "    print(\"\\n\",end = \"\")\n",
    "\n",
    "print(\"\")\n",
    "\n",
    "for i in range(row):\n",
    "    for j in range(row):\n",
    "        if j < row - i - 1:\n",
    "            print(\" \",end = \"\")\n",
    "        else:\n",
    "            print(\"*\", end = \"\")\n",
    "    print()\n",
    "    \n",
    "print(\"\")\n",
    "\n",
    "for i in range(row):\n",
    "    for _ in range(row - i - 1):\n",
    "        print(\" \", end = \"\")\n",
    "    # 上面这套其实用了第二幅图的方法    \n",
    "    for _ in range(2 * i + 1):\n",
    "        print(\"*\", end = \"\")\n",
    "    print()\n",
    "            \n",
    "\n",
    "\n"
   ]
  },
  {
   "cell_type": "code",
   "execution_count": null,
   "metadata": {},
   "outputs": [],
   "source": []
  },
  {
   "cell_type": "code",
   "execution_count": null,
   "metadata": {},
   "outputs": [],
   "source": []
  }
 ],
 "metadata": {
  "kernelspec": {
   "display_name": "Python 3",
   "language": "python",
   "name": "python3"
  },
  "language_info": {
   "codemirror_mode": {
    "name": "ipython",
    "version": 3
   },
   "file_extension": ".py",
   "mimetype": "text/x-python",
   "name": "python",
   "nbconvert_exporter": "python",
   "pygments_lexer": "ipython3",
   "version": "3.8.5"
  }
 },
 "nbformat": 4,
 "nbformat_minor": 4
}
