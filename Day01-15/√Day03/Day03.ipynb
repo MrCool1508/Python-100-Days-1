{
 "cells": [
  {
   "cell_type": "markdown",
   "metadata": {},
   "source": [
    "# Day03\n",
    "## 顺序结构\n",
    "## 分支结构\n",
    "### if语句"
   ]
  },
  {
   "cell_type": "code",
   "execution_count": 3,
   "metadata": {},
   "outputs": [
    {
     "name": "stdout",
     "output_type": "stream",
     "text": [
      "请输入用户名：admin\n",
      "请输入口令：12345\n",
      "身份验证失败\n"
     ]
    }
   ],
   "source": [
    "\n",
    "username = input(\"请输入用户名：\")\n",
    "password = input(\"请输入口令：\")\n",
    "# import getpass\n",
    "# password = getpass.getpass(\"请输入口令：\")\n",
    "if username == 'admin' and password == '123456':\n",
    "    print(\"身份验证成功！\")\n",
    "else:\n",
    "    print(\"身份验证失败\")"
   ]
  },
  {
   "cell_type": "markdown",
   "metadata": {},
   "source": [
    "+ 值得注意的是，python使用缩进表示同一个代码块"
   ]
  },
  {
   "cell_type": "code",
   "execution_count": 4,
   "metadata": {},
   "outputs": [
    {
     "name": "stdout",
     "output_type": "stream",
     "text": [
      "x = 7.4\n",
      "f(7.40) = 17\n"
     ]
    }
   ],
   "source": [
    "x = float(input(\"x = \"))\n",
    "if x > 1:\n",
    "    y = 3 * x - 5\n",
    "elif x < -1:\n",
    "    y = 5 * x + 3\n",
    "else:\n",
    "    y = x + 2\n",
    "print(\"f(%.2f) = %2.f\" % (x, y))"
   ]
  },
  {
   "cell_type": "markdown",
   "metadata": {},
   "source": [
    "### practise:\n",
    "#### 1、英制单位与公制单位互换"
   ]
  },
  {
   "cell_type": "code",
   "execution_count": 7,
   "metadata": {},
   "outputs": [
    {
     "name": "stdout",
     "output_type": "stream",
     "text": [
      "请输入长度：1234\n",
      "请输入单位：厘米\n",
      "1234.000厘米 = 485.827英寸\n"
     ]
    }
   ],
   "source": [
    "value = float(input(\"请输入长度：\"))\n",
    "unit = input(\"请输入单位：\")\n",
    "if unit == \"in\" or unit == \"英寸\":\n",
    "    print(\"%.3f英寸 = %.3f厘米\" % (value, value * 2.54))\n",
    "elif unit == \"cm\" or unit == \"厘米\":\n",
    "    print(\"%.3f厘米 = %.3f英寸\" % (value, value / 2.54))\n",
    "else:\n",
    "    print(\"请输入有效的单位\")"
   ]
  },
  {
   "cell_type": "markdown",
   "metadata": {},
   "source": [
    "#### 2、掷骰子决定做什么\n",
    "+ python竟然没有switch！"
   ]
  },
  {
   "cell_type": "code",
   "execution_count": 14,
   "metadata": {
    "scrolled": true
   },
   "outputs": [
    {
     "name": "stdout",
     "output_type": "stream",
     "text": [
      "讲笑话\n"
     ]
    }
   ],
   "source": [
    "from random import randint\n",
    "\n",
    "# face = randint(1, 6)\n",
    "# switch(face):\n",
    "#     case \"1\":\n",
    "#         result = \"唱歌\"\n",
    "#     case \"2\":\n",
    "#         result = \"跳舞\"\n",
    "#     case \"3\":\n",
    "#         result = \"学狗叫\"\n",
    "#     case \"4\":\n",
    "#         result = \"俯卧撑\"\n",
    "#     case \"5\":\n",
    "#         result = \"绕口令\"\n",
    "#     case \"6\":\n",
    "#         result = \"讲笑话\"\n",
    "# print(result)\n",
    "\n",
    "face = randint(1, 6)\n",
    "if 1 == face:\n",
    "    result = \"唱歌\"\n",
    "elif 2 == face:\n",
    "    result = \"跳舞\"\n",
    "elif 3 == face:\n",
    "    result = \"学狗叫\"\n",
    "elif 4 == face:\n",
    "    result = \"俯卧撑\"\n",
    "elif 5 == face:\n",
    "    result = \"绕口令\"\n",
    "else:\n",
    "    result = \"讲笑话\"\n",
    "print(result)"
   ]
  },
  {
   "cell_type": "markdown",
   "metadata": {},
   "source": [
    "#### 3、百分制成绩转等级制"
   ]
  },
  {
   "cell_type": "code",
   "execution_count": 17,
   "metadata": {},
   "outputs": [
    {
     "name": "stdout",
     "output_type": "stream",
     "text": [
      "请输入成绩：99\n",
      "成绩等级： A\n"
     ]
    }
   ],
   "source": [
    "score = float(input(\"请输入成绩：\"))\n",
    "if score>= 90:\n",
    "    result = \"A\"\n",
    "elif 80 <= score < 90:\n",
    "    result = \"B\"\n",
    "elif 70 <= score < 80:\n",
    "    result = \"C\"\n",
    "elif 60 <= score < 70:\n",
    "    result = \"D\"\n",
    "else:\n",
    "    result = \"E\"\n",
    "\n",
    "print(\"成绩等级：\", result)"
   ]
  },
  {
   "cell_type": "markdown",
   "metadata": {},
   "source": [
    "#### 4、输入三条边长如果能构成三角形就计算周长和面积"
   ]
  },
  {
   "cell_type": "code",
   "execution_count": 20,
   "metadata": {},
   "outputs": [
    {
     "name": "stdout",
     "output_type": "stream",
     "text": [
      "a = 56\n",
      "b = 45\n",
      "c = 51\n",
      "周长：152.000000\n",
      "面积：1085.357084\n"
     ]
    }
   ],
   "source": [
    "import math\n",
    "\n",
    "a = float(input(\"a = \"))\n",
    "b = float(input(\"b = \"))\n",
    "c = float(input(\"c = \"))\n",
    "\n",
    "if a + b > c and a + c > b and b + c > a:\n",
    "    print(\"周长：%f\" % (a + b + c))\n",
    "    p = (a + b + c) / 2\n",
    "    area = math.sqrt(p * (p - a) * (p - b) * (p - c))\n",
    "    print(\"面积：%f\" % (area))\n",
    "else:\n",
    "    print(\"不能构成三角形。\")\n",
    "    "
   ]
  },
  {
   "cell_type": "markdown",
   "metadata": {},
   "source": [
    "#### 5、实现一个个人所得税计算器"
   ]
  },
  {
   "cell_type": "code",
   "execution_count": 21,
   "metadata": {},
   "outputs": [
    {
     "name": "stdout",
     "output_type": "stream",
     "text": [
      "本月收入：2345678\n",
      "五险一金：5477\n",
      "个人所得税：￥1038010.45元\n",
      "实际到手收入：￥1302190.55元\n"
     ]
    }
   ],
   "source": [
    "salary = float(input(\"本月收入：\"))\n",
    "insurance = float(input(\"五险一金：\"))\n",
    "diff = salary - insurance - 3500\n",
    "\n",
    "if diff <= 0:\n",
    "    rate = 0\n",
    "    deduction = 0\n",
    "elif diff < 1500:\n",
    "    rate = 0.03\n",
    "    deduction = 0\n",
    "elif diff < 4500:\n",
    "    rate = 0.1\n",
    "    deduction = 105\n",
    "elif diff < 9000:\n",
    "    rate = 0.2\n",
    "    deduction = 555\n",
    "elif diff < 35000:\n",
    "    rate = 0.25\n",
    "    deduction = 1005\n",
    "elif diff < 55000:\n",
    "    rate = 0.3\n",
    "    deduction = 2755\n",
    "elif diff < 80000:\n",
    "    rate = 0.35\n",
    "    deduction = 5505\n",
    "else:\n",
    "    rate = 0.45\n",
    "    deduction = 13505\n",
    "\n",
    "tax = abs(diff * rate - deduction)\n",
    "print(\"个人所得税：￥%.2f元\" % tax)\n",
    "print(\"实际到手收入：￥%.2f元\" % (diff + 3500 - tax))\n"
   ]
  },
  {
   "cell_type": "code",
   "execution_count": null,
   "metadata": {},
   "outputs": [],
   "source": []
  }
 ],
 "metadata": {
  "kernelspec": {
   "display_name": "Python 3",
   "language": "python",
   "name": "python3"
  },
  "language_info": {
   "codemirror_mode": {
    "name": "ipython",
    "version": 3
   },
   "file_extension": ".py",
   "mimetype": "text/x-python",
   "name": "python",
   "nbconvert_exporter": "python",
   "pygments_lexer": "ipython3",
   "version": "3.8.5"
  }
 },
 "nbformat": 4,
 "nbformat_minor": 4
}
