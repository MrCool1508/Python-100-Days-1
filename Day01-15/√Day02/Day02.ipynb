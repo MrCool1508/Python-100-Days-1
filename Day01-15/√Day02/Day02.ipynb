{
 "cells": [
  {
   "cell_type": "markdown",
   "metadata": {},
   "source": [
    "# Day02 语言元素\n",
    "## 指令和程序\n",
    "## 变量和类型\n",
    "## 变量命名\n",
    "## 变量的使用"
   ]
  },
  {
   "cell_type": "code",
   "execution_count": null,
   "metadata": {},
   "outputs": [],
   "source": [
    "a = 321\n",
    "b = 123\n",
    "# 加法\n",
    "print(a+b)\n",
    "# 减法\n",
    "print(a-b)\n",
    "# 乘法\n",
    "print(a*b)\n",
    "# 除法\n",
    "print(a/b)\n",
    "# 整除\n",
    "print(a//b)\n",
    "# 求余/模\n",
    "print(a%b)\n",
    "# 指数\n",
    "print(a**b)\n",
    "'''\n",
    "~  按位取反\n",
    "&  按位与\n",
    "^  按位异或\n",
    "|  按位或\n",
    "[] 下标\n",
    "[:] 切片\n",
    "————\n",
    "身份运算符\n",
    "is\n",
    "is not\n",
    "————\n",
    "成员运算符\n",
    "in\n",
    "not in\n",
    "————\n",
    "逻辑运算符\n",
    "not\n",
    "or\n",
    "and\n",
    "'''"
   ]
  },
  {
   "cell_type": "markdown",
   "metadata": {},
   "source": [
    "+ int()\n",
    "    + 输入\n",
    "    + 可以类型转换\n",
    "+ print()\n",
    "    + 输出\n",
    "    + 类似地可用%d格式化\n",
    "    + eg： 'print('%d + %d = %d' % (a, b, a + b))'"
   ]
  }
 ],
 "metadata": {
  "kernelspec": {
   "display_name": "Python 3",
   "language": "python",
   "name": "python3"
  }
 },
 "nbformat": 4,
 "nbformat_minor": 4
}
